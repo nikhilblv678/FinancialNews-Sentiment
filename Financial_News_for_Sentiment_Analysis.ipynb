{
  "nbformat": 4,
  "nbformat_minor": 0,
  "metadata": {
    "colab": {
      "private_outputs": true,
      "provenance": []
    },
    "kernelspec": {
      "name": "python3",
      "display_name": "Python 3"
    },
    "language_info": {
      "name": "python"
    }
  },
  "cells": [
    {
      "cell_type": "code",
      "execution_count": null,
      "metadata": {
        "id": "RSlO8Za46c33"
      },
      "outputs": [],
      "source": []
    },
    {
      "cell_type": "code",
      "source": [
        "import numpy as np\n",
        "import pandas as pd"
      ],
      "metadata": {
        "id": "1bZmA4jH69dX"
      },
      "execution_count": null,
      "outputs": []
    },
    {
      "cell_type": "code",
      "source": [
        "from google.colab import files\n",
        "files.upload()"
      ],
      "metadata": {
        "id": "9zNsRyak7BXK"
      },
      "execution_count": null,
      "outputs": []
    },
    {
      "cell_type": "code",
      "source": [
        "import pandas as pd\n",
        "\n",
        "df = pd.read_csv(\"all-data.csv\", encoding=\"ISO-8859-1\", names=[\"Sentiment\", \"News\"])\n",
        "df.head()\n"
      ],
      "metadata": {
        "id": "wbiLXcwD9BcU"
      },
      "execution_count": null,
      "outputs": []
    },
    {
      "cell_type": "code",
      "source": [
        "df.shape"
      ],
      "metadata": {
        "id": "MM1hjVZacV3u"
      },
      "execution_count": null,
      "outputs": []
    },
    {
      "cell_type": "code",
      "source": [
        "import re\n",
        "import nltk\n",
        "nltk.download('stopwords')\n",
        "from nltk.corpus import stopwords\n",
        "from nltk.stem import PorterStemmer\n",
        "\n",
        "stop_words = set(stopwords.words('english'))\n",
        "stemmer = PorterStemmer()\n",
        "\n",
        "def clean_text(text):\n",
        "    text = re.sub(r\"[^a-zA-Z]\", \" \", text.lower())\n",
        "    words = text.split()\n",
        "    words = [stemmer.stem(w) for w in words if w not in stop_words]\n",
        "    return \" \".join(words)\n",
        "\n",
        "df[\"Cleaned_News\"] = df[\"News\"].apply(clean_text)\n"
      ],
      "metadata": {
        "id": "j5n5yJn09Ohy"
      },
      "execution_count": null,
      "outputs": []
    },
    {
      "cell_type": "code",
      "source": [
        "df['Label'] = df['Sentiment'].map({'neutral': 0, 'positive': 1, 'negative': -1})\n"
      ],
      "metadata": {
        "id": "tbUbbC509PGE"
      },
      "execution_count": null,
      "outputs": []
    },
    {
      "cell_type": "code",
      "source": [
        "from sklearn.feature_extraction.text import TfidfVectorizer\n",
        "\n",
        "tfidf = TfidfVectorizer(max_features=3000)\n",
        "X = tfidf.fit_transform(df[\"Cleaned_News\"]).toarray()\n",
        "y = df[\"Label\"]\n"
      ],
      "metadata": {
        "id": "VCybmPjn9Zk9"
      },
      "execution_count": null,
      "outputs": []
    },
    {
      "cell_type": "code",
      "source": [
        "from sklearn.model_selection import train_test_split\n",
        "from sklearn.naive_bayes import MultinomialNB\n",
        "from sklearn.metrics import classification_report, accuracy_score\n",
        "\n",
        "X_train, X_test, y_train, y_test = train_test_split(X, y, test_size=0.2, random_state=42)\n",
        "\n",
        "model = MultinomialNB()\n",
        "model.fit(X_train, y_train)\n"
      ],
      "metadata": {
        "id": "ipF3i-G89aFh"
      },
      "execution_count": null,
      "outputs": []
    },
    {
      "cell_type": "code",
      "source": [
        "y_pred = model.predict(X_test)\n",
        "\n",
        "print(\"Accuracy:\", accuracy_score(y_test, y_pred))\n",
        "print(\"\\nClassification Report:\\n\", classification_report(y_test, y_pred))\n"
      ],
      "metadata": {
        "id": "qdjirZ6X9ifA"
      },
      "execution_count": null,
      "outputs": []
    },
    {
      "cell_type": "code",
      "source": [
        "from sklearn.linear_model import LogisticRegression\n",
        "\n",
        "lr_model = LogisticRegression(max_iter=1000)\n",
        "lr_model.fit(X_train, y_train)\n",
        "print(\"LR Accuracy:\", accuracy_score(y_test, lr_model.predict(X_test)))\n"
      ],
      "metadata": {
        "id": "aGxjZC9M9lsx"
      },
      "execution_count": null,
      "outputs": []
    },
    {
      "cell_type": "code",
      "source": [
        "!pip install gradio\n"
      ],
      "metadata": {
        "id": "MCii2uNT-UK8"
      },
      "execution_count": null,
      "outputs": []
    },
    {
      "cell_type": "code",
      "source": [
        "# Step 1: Install necessary libraries\n",
        "!pip install -q gradio sklearn pandas nltk\n",
        "\n",
        "# Step 2: Import packages\n",
        "import pandas as pd\n",
        "import re\n",
        "import nltk\n",
        "from nltk.corpus import stopwords\n",
        "from nltk.stem import PorterStemmer\n",
        "from sklearn.feature_extraction.text import TfidfVectorizer\n",
        "from sklearn.naive_bayes import MultinomialNB\n",
        "from sklearn.model_selection import train_test_split\n",
        "import gradio as gr\n",
        "\n",
        "# Step 3: Download NLTK stopwords\n",
        "nltk.download('stopwords')\n",
        "stop_words = set(stopwords.words('english'))\n",
        "stemmer = PorterStemmer()\n",
        "\n",
        "# Step 4: Text cleaning function\n",
        "def clean_text(text):\n",
        "    text = re.sub(r\"[^a-zA-Z]\", \" \", text.lower())\n",
        "    words = text.split()\n",
        "    words = [stemmer.stem(w) for w in words if w not in stop_words]\n",
        "    return \" \".join(words)\n",
        "\n",
        "# Step 5: Load and preprocess data\n",
        "url = \"all-data.csv\"\n",
        "df = pd.read_csv(url, encoding=\"ISO-8859-1\", names=[\"Sentiment\", \"News\"])\n",
        "df[\"Cleaned_News\"] = df[\"News\"].apply(clean_text)\n",
        "df[\"Label\"] = df[\"Sentiment\"].map({\"neutral\": 0, \"positive\": 1, \"negative\": -1})\n",
        "\n",
        "# Step 6: Vectorize and train model\n",
        "tfidf = TfidfVectorizer(max_features=3000)\n",
        "X = tfidf.fit_transform(df[\"Cleaned_News\"])\n",
        "y = df[\"Label\"]\n",
        "\n",
        "model = MultinomialNB()\n",
        "model.fit(X, y)\n",
        "\n",
        "# Step 7: Prediction function\n",
        "def predict_sentiment(news):\n",
        "    cleaned = clean_text(news)\n",
        "    vect = tfidf.transform([cleaned])\n",
        "    label = model.predict(vect)[0]\n",
        "    return {1: \"Positive \", 0: \"Neutral \", -1: \"Negative \"}[label]\n",
        "\n",
        "# Step 8: Gradio UI\n",
        "iface = gr.Interface(fn=predict_sentiment,\n",
        "                     inputs=gr.Textbox(lines=2, placeholder=\"Enter a financial news headline...\"),\n",
        "                     outputs=\"text\",\n",
        "                     title=\"Financial News Sentiment Analyzer\",\n",
        "                     description=\"Enter a headline to get its sentiment: Positive, Negative, or Neutral.\")\n",
        "\n",
        "# Step 9: Launch UI\n",
        "iface.launch()\n"
      ],
      "metadata": {
        "collapsed": true,
        "id": "hsCilBVe9rJr"
      },
      "execution_count": null,
      "outputs": []
    }
  ]
}